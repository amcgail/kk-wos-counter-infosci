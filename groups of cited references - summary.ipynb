{
 "cells": [
  {
   "cell_type": "code",
   "execution_count": 1,
   "metadata": {},
   "outputs": [
    {
     "name": "stdout",
     "output_type": "stream",
     "text": [
      "loading variable infosci-wos-filtered/_attributes from disk\n",
      "loading variable infosci-wos-filtered/groups from disk\n",
      "loading variable infosci-wos-filtered/group_reps from disk\n"
     ]
    }
   ],
   "source": [
    "import sys; sys.path.append(\"knowknow\".join(_dh[0].split(\"knowknow\")[:-1]))\n",
    "from knowknow import *\n",
    "\n",
    "db = Dataset('infosci-wos-filtered')"
   ]
  },
  {
   "cell_type": "code",
   "execution_count": 2,
   "metadata": {},
   "outputs": [
    {
     "data": {
      "text/plain": [
       "['_attributes', 'c.ysum', 'group_reps', 'groups']"
      ]
     },
     "execution_count": 2,
     "metadata": {},
     "output_type": "execute_result"
    }
   ],
   "source": [
    "db.variables()"
   ]
  },
  {
   "cell_type": "code",
   "execution_count": 3,
   "metadata": {},
   "outputs": [
    {
     "name": "stdout",
     "output_type": "stream",
     "text": [
      "loading variable infosci-wos-filtered/groups from disk\n",
      "loading variable infosci-wos-filtered/ind ___ c from disk\n"
     ]
    }
   ],
   "source": [
    "groups = db.load_variable(\"groups\")\n",
    "cits = db.by('c').cits"
   ]
  },
  {
   "cell_type": "code",
   "execution_count": 4,
   "metadata": {},
   "outputs": [
    {
     "name": "stdout",
     "output_type": "stream",
     "text": [
      "4Milbrath, L.|political participat (11)\n",
      "Milbrath, L.|political participat (0)\n",
      "\n",
      "Abbott, A.|system professions (0)\n",
      "Abbott, A.|system professions e (93)\n",
      "\n",
      "Adams, B.|nmc horizon report 2 (15)\n",
      "Adams, S.|nmc horizon report 2 (0)\n",
      "\n",
      "Adler, R.|citation stat (0)\n",
      "Adler, R.|citation stat report (14)\n",
      "\n",
      "Agresti, A.|categorical data ana (39)\n",
      "Agresti, A.|intro categorical da (0)\n",
      "\n",
      "Ahituv, N.|principles inform sy (0)\n",
      "Ahituv, N.|principles informati (36)\n",
      "\n",
      "Ajzen, I.|action control (0)\n",
      "Ajzen, I.|action control cogni (68)\n",
      "\n",
      "Aldrich, H.|org env (38)\n",
      "Aldrich, H.|org evolving (0)\n",
      "\n",
      "Alexander, C.|pattern language (0)\n",
      "Alexander, C.|pattern language tow (25)\n",
      "\n",
      "Allen, B.|inform tasks user ce (0)\n",
      "Allen, B.|information tasks us (19)\n",
      "Allen, B.|inform tasks user ct (0)\n",
      "\n",
      "Allison, G.|essence decision (0)\n",
      "Allison, G.|essence decision exp (20)\n",
      "\n",
      "Altman, I.|env social behav (0)\n",
      "Altman, I.|env social behav pri (33)\n",
      "\n",
      "Amabile, T.|creativity context (39)\n",
      "Amabile, T.|creativity context u (0)\n",
      "\n",
      "American, C.|canc facts fig 2009 (21)\n",
      "American, C.|canc facts fig 2013 (0)\n",
      "American, C.|canc facts fig hisp (0)\n",
      "\n",
      "American, L.|pres comm inf lit (0)\n",
      "American, L.|pres comm inf lit fi (86)\n",
      "\n",
      "American, P.|diagn stat man ment (102)\n",
      "American, P.|dsm 4 diagn stat man (0)\n",
      "\n",
      "Anderberg, M.|cluster anal appl (27)\n",
      "Anderberg, M.|cluster anal applica (0)\n",
      "\n",
      "Anderson, C.|long tail (0)\n",
      "Anderson, C.|long tail endless ch (0)\n",
      "Anderson, C.|long tail why future (87)\n",
      "\n",
      "Anderson, C.|wired (26)\n",
      "Anderson, C.|wired magazine (0)\n",
      "\n",
      "Anderson, D.|universal biblio con (0)\n",
      "Anderson, D.|universal bibliograp (23)\n",
      "\n"
     ]
    }
   ],
   "source": [
    "# books\n",
    "\n",
    "import json\n",
    "toprint = 20\n",
    "printed = 0\n",
    "printi = 0\n",
    "while printed < toprint:\n",
    "    \n",
    "    myparts = [\"%s (%s)\" % (k,cits[(k,)]) for k,v in groups.items() if v==printi]\n",
    "    printi += 1\n",
    "    \n",
    "    if len(myparts[0].split(\"|\")) != 2:\n",
    "        continue\n",
    "           \n",
    "    pstr = \"\\n\".join(myparts)\n",
    "    \n",
    "    \n",
    "    if len(myparts) == 1:\n",
    "        continue\n",
    "        \n",
    "    print(pstr)\n",
    "    print()\n",
    "    \n",
    "    printed += 1"
   ]
  },
  {
   "cell_type": "code",
   "execution_count": 5,
   "metadata": {},
   "outputs": [
    {
     "name": "stdout",
     "output_type": "stream",
     "text": [
      "Braun, T.|1989|scientometrics,v15,p13 (0)\n",
      "Braun, T.|1989|scientometrics,v15,p165 (40)\n",
      "Braun, T.|1989|scientometrics,v15,p325 (0)\n",
      "\n",
      "Cambria, E.|2013|ieee intell syst,v28,p12 (0)\n",
      "Cambria, E.|2013|ieee intell syst,v28,p6 (0)\n",
      "Cambria, E.|2013|ieee intell syst,v28,p15 (40)\n",
      "\n",
      "Chinchilla-Rodriguez, Z.|2015|scientometrics,v102,p609 (24)\n",
      "Chinchilla-Rodriguez, Z.|2015|scientometrics,v102,p789 (0)\n",
      "Chinchilla-Rodriguez, Z.|2015|scientometrics,v103,p779 (0)\n",
      "\n",
      "Clemons, E.|1990|journal of management information systems,v7,p5 (0)\n",
      "Clemons, E.|1990|journal of management information systems,v7,p9 (0)\n",
      "Clemons, E.|1992|journal of management information systems,v9,p9 (73)\n",
      "\n",
      "Goodchild, M.|1992|int j geogr inf syst,v6,p31 (49)\n",
      "Goodchild, M.|1992|int j geogr inf syst,v6,p87 (0)\n",
      "Goodchild, M.|1992|int j geogr inf syst,v6,p407 (0)\n",
      "\n",
      "Greenberg, J.|2001|j am soc inf sci tec,v52,p402 (0)\n",
      "Greenberg, J.|2001|j am soc inf sci tec,v52,p487 (27)\n",
      "Greenberg, J.|2001|j am soc inf sci tec,v52,p917 (0)\n",
      "\n",
      "Hair, J.|2006|multivariate data an,v6 (45)\n",
      "Hair, J.|2009|multivariate data an,v7 (0)\n",
      "Hair, J.|2010|multivariate data an,v7 (0)\n",
      "\n",
      "Haitun, S.|1982|scientometrics,v4,p181 (0)\n",
      "Haitun, S.|1982|scientometrics,v4,p89 (0)\n",
      "Haitun, S.|1982|scientometrics,v4,p5 (93)\n",
      "\n",
      "Henderson, J.|1993|ibm syst j,v32,p4 (224)\n",
      "Henderson, J.|1993|ibm syst j,v32,p472 (0)\n",
      "Henderson, J.|1999|ibm syst j,v38,p472 (0)\n",
      "\n",
      "Hernon, P.|2002|j acad libr,v28,p1 (0)\n",
      "Hernon, P.|2002|j acad libr,v28,p54 (0)\n",
      "Hernon, P.|2002|j acad libr,v28,p224 (20)\n",
      "\n",
      "Hulme, E.|1911|lib ass record,v13,p354 (39)\n",
      "Hulme, E.|1911|lib ass record,v13,p444 (0)\n",
      "Hulme, E.|1911|lib ass record,v13,p389 (0)\n",
      "\n",
      "Jacso, P.|2007|online inform rev,v31,p694 (18)\n",
      "Jacso, P.|2007|online inform rev,v31,p892 (0)\n",
      "Jacso, P.|2007|online inform rev,v31,p85 (0)\n",
      "\n",
      "Jacso, P.|2010|online inform rev,v34,p175 (52)\n",
      "Jacso, P.|2010|online inform rev,v34,p972 (0)\n",
      "Jacso, P.|2010|online inform rev,v34,p642 (0)\n",
      "\n",
      "Jaeger, P.|2013|libr quart,v83,p166 (0)\n",
      "Jaeger, P.|2013|libr quart,v83,p368 (42)\n",
      "Jaeger, P.|2013|libr quart,v83,p61 (0)\n",
      "\n",
      "Lee, J.|2003|commun acm,v46,p49 (0)\n",
      "Lee, J.|2003|commun acm,v46,p84 (0)\n",
      "Lee, J.|2003|commun acm,v46,p54 (35)\n",
      "\n",
      "Leydesdorff, L.|1990|scientometrics,v18,p281 (17)\n",
      "Leydesdorff, L.|1990|scientometrics,v19,p271 (0)\n",
      "Leydesdorff, L.|1990|scientometrics,v19,p297 (0)\n",
      "\n",
      "Lundh, A.|2010|inform res,v15 (21)\n",
      "Lundh, A.|2013|inform res,v18 (0)\n",
      "Lundh, A.|2012|inform res,v17 (0)\n",
      "\n",
      "Mckechnie, L.|2005|inform res,v10 (34)\n",
      "Mckechnie, L.|2006|inform res,v12 (0)\n",
      "Mckechnie, L.|2008|inform res,v13 (0)\n",
      "\n",
      "Nerur, S.|2005|commun acm,v48,p71 (0)\n",
      "Nerur, S.|2005|commun acm,v48,p73 (0)\n",
      "Nerur, S.|2005|commun acm,v48,p72 (50)\n",
      "\n",
      "Park, E.|2014|telemat inform,v31,p253 (0)\n",
      "Park, E.|2014|telemat inform,v31,p3 (43)\n",
      "Park, E.|2014|telemat inform,v31,p376 (0)\n",
      "\n"
     ]
    }
   ],
   "source": [
    "# articles\n",
    "\n",
    "import json\n",
    "toprint = 20\n",
    "printed = 0\n",
    "printi = 0\n",
    "    \n",
    "for gid, count in Counter(gid for x,gid in groups.items() if len(x.split(\"|\"))>2).most_common(toprint*2)[toprint:]:\n",
    "    \n",
    "    myparts = [\"%s (%s)\" % (k,cits[(k,)]) for k,v in groups.items() if v==gid]\n",
    "    printi += 1\n",
    "    \n",
    "    if len(myparts[0].split(\"|\")) == 2:\n",
    "        continue\n",
    "    \n",
    "    if len(myparts) == 1:\n",
    "        continue\n",
    "        \n",
    "    pstr = \"\\n\".join(myparts)\n",
    "    \n",
    "    print(pstr)\n",
    "    print()\n",
    "    \n",
    "    printed += 1"
   ]
  },
  {
   "cell_type": "code",
   "execution_count": 6,
   "metadata": {},
   "outputs": [
    {
     "data": {
      "text/plain": [
       "[(31426, 8),\n",
       " (52136, 7),\n",
       " (31441, 6),\n",
       " (45209, 6),\n",
       " (29093, 5),\n",
       " (59602, 5),\n",
       " (18974, 4),\n",
       " (23641, 4),\n",
       " (34232, 4),\n",
       " (36556, 4)]"
      ]
     },
     "execution_count": 6,
     "metadata": {},
     "output_type": "execute_result"
    }
   ],
   "source": [
    "Counter(gid for x,gid in groups.items() if len(x.split(\"|\"))>2).most_common(10)"
   ]
  }
 ],
 "metadata": {
  "kernelspec": {
   "display_name": "Python 3",
   "language": "python",
   "name": "python3"
  },
  "language_info": {
   "codemirror_mode": {
    "name": "ipython",
    "version": 3
   },
   "file_extension": ".py",
   "mimetype": "text/x-python",
   "name": "python",
   "nbconvert_exporter": "python",
   "pygments_lexer": "ipython3",
   "version": "3.7.5"
  }
 },
 "nbformat": 4,
 "nbformat_minor": 4
}
