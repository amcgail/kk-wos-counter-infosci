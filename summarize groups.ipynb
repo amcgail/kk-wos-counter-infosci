{
 "cells": [
  {
   "cell_type": "code",
   "execution_count": 1,
   "metadata": {},
   "outputs": [],
   "source": [
    "from knowknow import *"
   ]
  },
  {
   "cell_type": "code",
   "execution_count": 2,
   "metadata": {},
   "outputs": [
    {
     "name": "stdout",
     "output_type": "stream",
     "text": [
      "loading variable sociology-wos-74a/groups from disk\n",
      "loading variable sociology-wos-74a/group_reps from disk\n",
      "loading variable sociology-wos-74a/_attributes from disk\n"
     ]
    }
   ],
   "source": [
    "db = Dataset(\"sociology-wos-74a\")"
   ]
  },
  {
   "cell_type": "code",
   "execution_count": 6,
   "metadata": {},
   "outputs": [],
   "source": [
    "db.groupings = []"
   ]
  },
  {
   "cell_type": "code",
   "execution_count": 3,
   "metadata": {},
   "outputs": [
    {
     "name": "stdout",
     "output_type": "stream",
     "text": [
      "loading variable sociology-wos-74a/groups from disk\n",
      "loading variable sociology-wos-74a/group_reps from disk\n"
     ]
    }
   ],
   "source": [
    "groups = db.load_variable(\"groups\")\n",
    "group_reps = db.load_variable(\"group_reps\")"
   ]
  },
  {
   "cell_type": "code",
   "execution_count": 5,
   "metadata": {},
   "outputs": [],
   "source": [
    "def isarticle(x):\n",
    "    sp = x.split(\"|\")\n",
    "    if len(sp) < 2:\n",
    "        return False\n",
    "\n",
    "    try:\n",
    "        int(sp[1])\n",
    "        return True\n",
    "    except ValueError:\n",
    "        return False"
   ]
  },
  {
   "cell_type": "code",
   "execution_count": 7,
   "metadata": {},
   "outputs": [
    {
     "name": "stdout",
     "output_type": "stream",
     "text": [
      "loading variable sociology-wos-74a/ind ___ c from disk\n"
     ]
    },
    {
     "data": {
      "text/plain": [
       "1705094"
      ]
     },
     "execution_count": 7,
     "metadata": {},
     "output_type": "execute_result"
    }
   ],
   "source": [
    "len(db.items('c'))"
   ]
  },
  {
   "cell_type": "code",
   "execution_count": 4,
   "metadata": {},
   "outputs": [
    {
     "data": {
      "text/plain": [
       "89337"
      ]
     },
     "execution_count": 4,
     "metadata": {},
     "output_type": "execute_result"
    }
   ],
   "source": [
    "len(groups)"
   ]
  },
  {
   "cell_type": "code",
   "execution_count": 10,
   "metadata": {},
   "outputs": [],
   "source": [
    "c = Counter(groups.values())\n",
    "c = Counter(c.values())"
   ]
  },
  {
   "cell_type": "code",
   "execution_count": 10,
   "metadata": {},
   "outputs": [
    {
     "data": {
      "text/plain": [
       "[<matplotlib.lines.Line2D at 0x2c70513be08>]"
      ]
     },
     "execution_count": 10,
     "metadata": {},
     "output_type": "execute_result"
    },
    {
     "data": {
      "image/png": "[encoded data removed]",
      "text/plain": [
       "<Figure size 432x288 with 1 Axes>"
      ]
     },
     "metadata": {},
     "output_type": "display_data"
    }
   ],
   "source": [
    "x = sorted(c.keys())\n",
    "y = [np.log(c[xx]) for xx in x]\n",
    "plt.plot(x,y)"
   ]
  },
  {
   "cell_type": "code",
   "execution_count": 19,
   "metadata": {},
   "outputs": [],
   "source": [
    "udocs = list(group_reps.values())\n",
    "n1 = len(groups)\n",
    "n2 = sum(not isarticle(x) for x in groups)\n",
    "n3 = sum(isarticle(x) for x in groups)\n",
    "n4 = len(udocs)\n",
    "n5 = sum(x for n,x in c.items() if n >= 5)"
   ]
  },
  {
   "cell_type": "code",
   "execution_count": 20,
   "metadata": {},
   "outputs": [
    {
     "data": {
      "text/markdown": [
       "\n",
       "There are 89,337 cited works with at least 5 citations - 39,407 books and 49,930 articles.\n",
       "After textual grouping, this reduces to 83,858 distinct works.\n",
       "There were 98 cited works which had at least five separate pseudonyms.\n"
      ],
      "text/plain": [
       "<IPython.core.display.Markdown object>"
      ]
     },
     "metadata": {},
     "output_type": "display_data"
    }
   ],
   "source": [
    "display(Markdown(\"\"\"\n",
    "There are {n1:,} cited works with at least 5 citations - {n2:,} books and {n3:,} articles.\n",
    "After textual grouping, this reduces to {n4:,} distinct works.\n",
    "There were {n5:,} cited works which had at least five separate pseudonyms.\n",
    "\"\"\".format(**locals())))"
   ]
  },
  {
   "cell_type": "code",
   "execution_count": 44,
   "metadata": {},
   "outputs": [],
   "source": [
    "c = Counter(groups.values())"
   ]
  },
  {
   "cell_type": "code",
   "execution_count": 51,
   "metadata": {},
   "outputs": [],
   "source": [
    "book_g = [g for x,g in groups.items() if not isarticle(x)]\n",
    "article_g = [g for x,g in groups.items() if isarticle(x)]"
   ]
  },
  {
   "cell_type": "code",
   "execution_count": 52,
   "metadata": {},
   "outputs": [],
   "source": [
    "book_g = [x for x in book_g if c[x]>1]\n",
    "article_g = [x for x in article_g if c[x]>1]"
   ]
  },
  {
   "cell_type": "code",
   "execution_count": 53,
   "metadata": {},
   "outputs": [
    {
     "name": "stdout",
     "output_type": "stream",
     "text": [
      "Morselli, E.|suicide essay comp m (9)\n",
      "Morselli, H.|suicide essay comp m (18)\n",
      "\n",
      "Kaplan, M.|leisure am (11)\n",
      "Kaplan, M.|leisure theory polic (18)\n",
      "Kaplan, M.|leisure am social in (28)\n",
      "\n",
      "Hatcher, L.|step by step approac (35)\n",
      "Hatcher, L.|step step approach u (9)\n",
      "\n",
      "Wallace, W.|student culture (16)\n",
      "Wallace, W.|student culture soci (8)\n",
      "\n",
      "Schoenberg, R.|sociol methodol (18)\n",
      "Schoenberg, R.|sociological methodo (8)\n",
      "\n",
      "Tyler, A.|freedoms ferment (5)\n",
      "Tyler, A.|freedoms ferment pha (7)\n",
      "\n",
      "Levitas, R.|inclusive soc (7)\n",
      "Levitas, R.|inclusive soc social (30)\n",
      "\n",
      "Barker, D.|mothers babies dis l (6)\n",
      "Barker, D.|mothers babies hlth (13)\n",
      "\n",
      "Davis, M.|city quartz (20)\n",
      "Davis, M.|city quartz excavati (41)\n",
      "\n",
      "Selznick, P.|law soc ind justice (41)\n",
      "Selznick, P.|law soc industrial j (11)\n",
      "\n",
      "Huizinga, J.|homo ludens (43)\n",
      "Huizinga, J.|homo ludens study pl (40)\n",
      "Huizinga, J.|homoludens study pla (14)\n",
      "\n",
      "Berry, J.|lobbying people (9)\n",
      "Berry, J.|lobbying people poli (8)\n",
      "\n",
      "Tylor, E.|primitive culture (37)\n",
      "Tylor, E.|primitive culture re (9)\n",
      "\n",
      "Millet, K.|sexual politics (16)\n",
      "Millett, K.|sexual politics (43)\n",
      "\n",
      "Daniel, E.|fluid signs (13)\n",
      "Daniel, E.|fluid signs being pe (7)\n",
      "\n",
      "Wittgenstein, L.|blue brown books (14)\n",
      "Wittgenstein, L.|blue brown books pre (5)\n",
      "\n",
      "Marx, K.|poverty philos (48)\n",
      "Marx, K.|poverty philosophy (16)\n",
      "\n",
      "Faunce, W.|problems ind soc (6)\n",
      "Faunce, W.|problems industrial (11)\n",
      "\n",
      "Gershuny, J.|changing classes str (7)\n",
      "Gershuny, J.|changing times (6)\n",
      "Gershuny, J.|changing times work (106)\n",
      "\n",
      "Rousseau, -.|social contract disc (6)\n",
      "Rousseau, J.|social contract disc (18)\n",
      "Rousseau, J.|social contract (40)\n",
      "Rousseau, J.|social contract othe (6)\n",
      "\n"
     ]
    }
   ],
   "source": [
    "# books\n",
    "\n",
    "import json\n",
    "toprint = 20\n",
    "printed = 0\n",
    "printi = 0\n",
    "\n",
    "shuf = list(set(book_g))\n",
    "shuffle(shuf)\n",
    "\n",
    "while printed < toprint:\n",
    "    \n",
    "    myparts = [\"%s (%s)\" % (k,db(c=k).cits) for k,v in groups.items() if v==shuf[printi]]\n",
    "    printi += 1\n",
    "    \n",
    "    pstr = \"\\n\".join(myparts)\n",
    "    \n",
    "    if len(myparts) == 1:\n",
    "        continue\n",
    "        \n",
    "    print(pstr)\n",
    "    print()\n",
    "    \n",
    "    printed += 1"
   ]
  },
  {
   "cell_type": "code",
   "execution_count": 55,
   "metadata": {},
   "outputs": [
    {
     "name": "stdout",
     "output_type": "stream",
     "text": [
      "Eisenhardt, K.|1989|acad manage rev,v14,p532 (43)\n",
      "Eisenhardt, K.|1989|acad manage rev,v14,p57 (12)\n",
      "\n",
      "Otto, L.|1977|sociol educ,v42,p102 (19)\n",
      "Otto, L.|1977|sociol educ,v50,p102 (7)\n",
      "\n",
      "Baker, P.|1981|teach sociol,v8,p123 (15)\n",
      "Baker, P.|1981|teach sociol,v8,p325 (14)\n",
      "\n",
      "Krause, N.|1989|j gerontol,v44,p4 (13)\n",
      "Krause, N.|1989|j gerontol,v44,ps4 (12)\n",
      "\n",
      "Pope, W.|1975|am sociol rev,v40,p111 (8)\n",
      "Pope, W.|1975|am sociol rev,v40,p417 (13)\n",
      "\n",
      "Halfacree, K.|1993|j rural stud,v9,p1 (6)\n",
      "Halfacree, K.|1993|j rural stud,v9,p23 (13)\n",
      "\n",
      "Bourdieu, P.|1987|hastings law j,v38,p805 (48)\n",
      "Bourdieu, P.|1987|hastings law j,v38,p814 (8)\n",
      "\n",
      "Fuchs, S.|1986|sociological theory,v4,p126 (5)\n",
      "Fuchs, S.|1986|sociological theory,v4,p143 (13)\n",
      "\n",
      "Heise, D.|1989|soc psychol quart,v52,p10 (9)\n",
      "Heise, D.|1989|soc psychol quart,v52,p141 (10)\n",
      "\n",
      "Attewell, P.|2001|sociol educ,v74,p252 (8)\n",
      "Attewell, P.|2001|sociol educ,v74,p267 (10)\n",
      "\n",
      "Lenski, G.|1956|am sociol rev,v21,p368 (6)\n",
      "Lenski, G.|1956|am sociol rev,v21,p458 (58)\n",
      "Lenski, G.|1956|am sociol rev,v21,p456 (7)\n",
      "\n",
      "Wuthnow, R.|1973|j sci stud relig,v12,p157 (15)\n",
      "Wuthnow, R.|1976|j sci stud relig,v15,p157 (15)\n",
      "\n",
      "Smith, D.|1974|sociol inq,v44,p257 (21)\n",
      "Smith, D.|1974|sociol inq,v44,p7 (22)\n",
      "\n",
      "Crane, J.|1991|am j sociol,v96,p1126 (8)\n",
      "Crane, J.|1991|am j sociol,v96,p1226 (105)\n",
      "\n",
      "Schott, S.|1979|am j sociol,v84,p1317 (5)\n",
      "Shott, S.|1979|am j sociol,v84,p1317 (65)\n",
      "\n",
      "Tversky, A.|1986|j bus,v59,p251 (6)\n",
      "Tversky, A.|1986|j bus,v59,ps251 (12)\n",
      "\n",
      "Browne, M.|1984|brit j math stat psy,v37,p1 (10)\n",
      "Browne, M.|1984|brit j math stat psy,v37,p62 (33)\n",
      "\n",
      "Crenshaw, K.|1990|stanford law rev,v43,p1241 (51)\n",
      "Crenshaw, K.|1991|stanford law rev,v43,p1241 (148)\n",
      "\n",
      "Snyder, D.|1979|am j sociol,v84,p1096 (97)\n",
      "Snyder, D.|1979|am j sociol,v84,p1097 (7)\n",
      "\n",
      "Schawarz, N.|1999|well being fdn hedon,p61 (26)\n",
      "Schwarz, N.|1999|well being fdn hedon,p61 (13)\n",
      "\n",
      "Terranova, T.|2000|social text,v18,p33 (7)\n",
      "Terranova, T.|2000|social text,v2,p33 (19)\n",
      "\n",
      "Lingoes, J.|1965|behav sci,v10,p183 (12)\n",
      "Lingoes, J.|1965|behav sci,v10,p487 (6)\n",
      "\n",
      "Hoffman, S.|1993|demography,v30,p1 (32)\n",
      "Hoffman, S.|1993|demography,v30,p291 (8)\n",
      "\n",
      "Erlanger, H.|1975|j crim law crim,v66,p483 (11)\n",
      "Erlanger, H.|1976|j crim law crim,v66,p483 (8)\n",
      "\n",
      "Rumberger, R.|1998|sociol educ,v71,p68 (7)\n",
      "Rumberger, R.|1998|sociol educ,v71,p69 (7)\n",
      "\n",
      "Humphrey, C.|1975|rural sociol,v40,p332 (7)\n",
      "Humphrey, C.|1977|rural sociol,v42,p332 (7)\n",
      "\n",
      "Johansson, S.|1991|popul dev rev,v17,p35 (19)\n",
      "Johansson, S.|1991|popul dev rev,v17,p377 (5)\n",
      "\n",
      "Bahr, H.|1970|soc forces,v49,p59 (23)\n",
      "Bahr, H.|1970|soc forces,v49,p60 (6)\n",
      "\n",
      "Parsons, T.|1937|structure social act,v2 (6)\n",
      "Parsons, T.|1968|structure social act,v2 (10)\n",
      "Parsons, T.|1968|structure social act,v1 (15)\n",
      "\n",
      "Habermas, J.|1981|theorie kommunikativ,v1 (10)\n",
      "Habermas, J.|1981|theorie kommunikativ,v2 (18)\n",
      "\n"
     ]
    }
   ],
   "source": [
    "# article\n",
    "\n",
    "import json\n",
    "toprint = 30\n",
    "printed = 0\n",
    "printi = 0\n",
    "\n",
    "shuf = list(set(article_g))\n",
    "shuffle(shuf)\n",
    "\n",
    "while printed < toprint:\n",
    "    \n",
    "    myparts = [\"%s (%s)\" % (k,db(c=k).cits) for k,v in groups.items() if v==shuf[printi]]\n",
    "    printi += 1\n",
    "           \n",
    "    pstr = \"\\n\".join(myparts)\n",
    "    \n",
    "    \n",
    "    if len(myparts) == 1:\n",
    "        continue\n",
    "        \n",
    "    print(pstr)\n",
    "    print()\n",
    "    \n",
    "    printed += 1"
   ]
  },
  {
   "cell_type": "code",
   "execution_count": null,
   "metadata": {},
   "outputs": [],
   "source": []
  }
 ],
 "metadata": {
  "kernelspec": {
   "display_name": "Python 3",
   "language": "python",
   "name": "python3"
  },
  "language_info": {
   "codemirror_mode": {
    "name": "ipython",
    "version": 3
   },
   "file_extension": ".py",
   "mimetype": "text/x-python",
   "name": "python",
   "nbconvert_exporter": "python",
   "pygments_lexer": "ipython3",
   "version": "3.7.5"
  }
 },
 "nbformat": 4,
 "nbformat_minor": 4
}
